{
 "cells": [
  {
   "cell_type": "code",
   "execution_count": null,
   "id": "9693c5fa",
   "metadata": {},
   "outputs": [],
   "source": [
    "from pyspark.sql import SparkSession\n",
    "from delta import configure_spark_with_delta_pip\n",
    "\n",
    "# Correct SparkSession configuration for local Delta Lake development\n",
    "builder = SparkSession.builder \\\n",
    "    .appName(\"Spark\") \\\n",
    "    .master(\"spark://spark-master:7077\") \\\n",
    "    .config(\"spark.sql.extensions\", \"io.delta.sql.DeltaSparkSessionExtension\") \\\n",
    "    .config(\"spark.sql.catalog.spark_catalog\", \"org.apache.spark.sql.delta.catalog.DeltaCatalog\")\n",
    "\n",
    "spark = configure_spark_with_delta_pip(builder).getOrCreate()"
   ]
  },
  {
   "cell_type": "code",
   "execution_count": null,
   "id": "9ac033c7",
   "metadata": {},
   "outputs": [],
   "source": [
    "import psycopg2\n",
    "conn = psycopg2.connect(\"dbname=elearning user=dev password=dev host=postgres\")\n",
    "print(\"Connected to Postgres!\")\n",
    "conn.close()"
   ]
  },
  {
   "cell_type": "markdown",
   "id": "37a86d99",
   "metadata": {},
   "source": []
  },
  {
   "cell_type": "code",
   "execution_count": null,
   "id": "9b5f5cc7",
   "metadata": {},
   "outputs": [],
   "source": [
    "# Create a Delta table\n",
    "data = spark.range(0, 5)\n",
    "# Use the full, absolute path within the container.\n",
    "data.write.format(\"delta\").save(\"/home/jovyan/data/delta-table\")\n",
    "\n",
    "# Read data from the Delta table\n",
    "df = spark.read.format(\"delta\").load(\"/home/jovyan/data/delta-table\")\n",
    "df.show()"
   ]
  },
  {
   "cell_type": "code",
   "execution_count": null,
   "id": "e0f078f5",
   "metadata": {},
   "outputs": [],
   "source": [
    "spark.stop()"
   ]
  }
 ],
 "metadata": {
  "kernelspec": {
   "display_name": "base",
   "language": "python",
   "name": "python3"
  },
  "language_info": {
   "codemirror_mode": {
    "name": "ipython",
    "version": 3
   },
   "file_extension": ".py",
   "mimetype": "text/x-python",
   "name": "python",
   "nbconvert_exporter": "python",
   "pygments_lexer": "ipython3",
   "version": "3.13.7"
  }
 },
 "nbformat": 4,
 "nbformat_minor": 5
}
